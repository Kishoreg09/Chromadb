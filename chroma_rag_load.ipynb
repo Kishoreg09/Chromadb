{
 "cells": [
  {
   "cell_type": "markdown",
   "id": "56edc7a0-5e58-4ec7-b05d-08eac48c43d9",
   "metadata": {},
   "source": [
    "# Setting environment parameter"
   ]
  },
  {
   "cell_type": "code",
   "execution_count": 2,
   "id": "92b03806-fbc8-4bea-9914-72af21a257d8",
   "metadata": {},
   "outputs": [],
   "source": [
    "import os\n",
    "#os.environ[\"OPENAI_API_KEY\"]=\"\"\n",
    "os.environ[\"OPENAI_API_KEY\"] = \"ENTER_YOUR_API_KEY\" "
   ]
  },
  {
   "cell_type": "code",
   "execution_count": 5,
   "id": "9f48c326-5c03-4db4-b324-9b3312e120c5",
   "metadata": {},
   "outputs": [],
   "source": [
    "from langchain_openai import OpenAIEmbeddings\n",
    "from langchain.text_splitter import CharacterTextSplitter\n",
    "from langchain.vectorstores import Chroma\n",
    "from langchain.document_loaders import PyPDFLoader\n",
    "\n",
    "CHROMA_PATH = \"/internship/chroma_application\"\n"
   ]
  },
  {
   "cell_type": "markdown",
   "id": "f50a95bd-e20a-4d67-aed1-b0f77315d4c5",
   "metadata": {},
   "source": [
    "# load data into Chroma DB"
   ]
  },
  {
   "cell_type": "code",
   "execution_count": 11,
   "id": "38de51f5-7c2f-43df-97c0-008f6972334d",
   "metadata": {},
   "outputs": [],
   "source": [
    "# embeddings = OpenAIEmbeddings()\n",
    "loaders = PyPDFLoader(\"C:\\\\Users\\\\goura\\\\OneDrive\\\\Desktop\\\\Data Science Course\\\\internship\\\\chromadb\\\\Bhagavadgita.pdf\") #give the path of the document\n",
    "\n",
    "documents = loaders.load()\n",
    "\n",
    "db = Chroma.from_documents(\n",
    "    documents,\n",
    "    OpenAIEmbeddings(chunk_size=200),\n",
    "    persist_directory=CHROMA_PATH\n",
    "  )\n",
    "db.persist()\n"
   ]
  },
  {
   "cell_type": "code",
   "execution_count": null,
   "id": "b7460a44-3da3-475c-a23c-c35f06345a4d",
   "metadata": {},
   "outputs": [],
   "source": [
    "import sys\n",
    "sys.exit(1)"
   ]
  }
 ],
 "metadata": {
  "kernelspec": {
   "display_name": "Python [conda env:base] *",
   "language": "python",
   "name": "conda-base-py"
  },
  "language_info": {
   "codemirror_mode": {
    "name": "ipython",
    "version": 3
   },
   "file_extension": ".py",
   "mimetype": "text/x-python",
   "name": "python",
   "nbconvert_exporter": "python",
   "pygments_lexer": "ipython3",
   "version": "3.12.7"
  }
 },
 "nbformat": 4,
 "nbformat_minor": 5
}
